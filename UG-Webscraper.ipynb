{
 "cells": [
  {
   "cell_type": "markdown",
   "metadata": {},
   "source": [
    "# Scraping Chords from Ultimate Guitar #"
   ]
  },
  {
   "cell_type": "markdown",
   "metadata": {},
   "source": [
    "## Set-up ##"
   ]
  },
  {
   "cell_type": "code",
   "execution_count": 1,
   "metadata": {},
   "outputs": [],
   "source": [
    "from selenium import webdriver\n",
    "from selenium.webdriver.common.by import By\n",
    "from selenium.webdriver.support.ui import WebDriverWait\n",
    "from selenium.webdriver.support import expected_conditions as EC\n",
    "from selenium.common.exceptions import TimeoutException"
   ]
  },
  {
   "cell_type": "code",
   "execution_count": 2,
   "metadata": {},
   "outputs": [],
   "source": [
    "import pandas as pd"
   ]
  },
  {
   "cell_type": "code",
   "execution_count": 3,
   "metadata": {},
   "outputs": [],
   "source": [
    "driver = webdriver.Chrome(executable_path='chromedriver') # Chrome driver is located in the working directory"
   ]
  },
  {
   "cell_type": "markdown",
   "metadata": {},
   "source": [
    "## Find song pages ##"
   ]
  },
  {
   "cell_type": "code",
   "execution_count": 4,
   "metadata": {},
   "outputs": [],
   "source": [
    "# website urls\n",
    "urls = []\n",
    "p_to_s = 1 # Number of pages we wish to scrape\n",
    "\n",
    "for i in range(1,p_to_s+1):\n",
    "    urls.append(\"https://www.ultimate-guitar.com/explore?page=\" + str(i) + \"&\")"
   ]
  },
  {
   "cell_type": "code",
   "execution_count": 5,
   "metadata": {},
   "outputs": [],
   "source": [
    "page_link = []\n",
    "song_name = []\n",
    "\n",
    "for url in urls:\n",
    "    driver.get(url) # Get the page\n",
    "    \n",
    "    link_element = driver.find_elements_by_css_selector('._1mes3') # Select the Song list element\n",
    "    \n",
    "    type_ = []\n",
    "    chords_or_tab = driver.find_elements_by_css_selector('._1_CWK') \n",
    "    for item in chords_or_tab:\n",
    "        type_.append(item.text)\n",
    "        \n",
    "    \n",
    "    for i in range(len(link_element)):\n",
    "        if type_[i] != 'Chords':\n",
    "            continue # Skip any songs that aren't of type Chord\n",
    "        page_link.append(link_element[i].get_attribute('href')) # Retrieve the hyperlink element for each song\n",
    "        song_name.append(link_element[i].text) # Retrieve the song name"
   ]
  },
  {
   "cell_type": "markdown",
   "metadata": {},
   "source": [
    "## Scraping the pages ##"
   ]
  },
  {
   "cell_type": "code",
   "execution_count": 6,
   "metadata": {},
   "outputs": [],
   "source": [
    "song_chords = []\n",
    "\n",
    "for i in range(len(page_link)):\n",
    "    driver.get(page_link[i]) # Get the song page\n",
    "    chord_elements = driver.find_elements_by_css_selector('._3ffP6') # Select the Song list element\n",
    "    chords = [] \n",
    "    for i in range(len(chord_elements)): \n",
    "        chords.append(chord_elements[i].text) # Save the chord elements for each song to a vector\n",
    "    song_chords.append(\" \".join(chords)) # Turn the list of chords in to a single string\n",
    "    \n",
    "to_df = list(zip(song_name,song_chords)) # Create a tuple of the song name with its chords\n",
    "data = pd.DataFrame(to_df, columns=['Song Name','Chords']) # Create a data frame of the song with its chords"
   ]
  },
  {
   "cell_type": "code",
   "execution_count": 10,
   "metadata": {},
   "outputs": [],
   "source": [
    "data.to_csv('./Data_OUT/songs_with_chords_' + str(p_to_s) + '_pages.csv')"
   ]
  },
  {
   "cell_type": "code",
   "execution_count": null,
   "metadata": {},
   "outputs": [],
   "source": []
  }
 ],
 "metadata": {
  "kernelspec": {
   "display_name": "Python 3",
   "language": "python",
   "name": "python3"
  },
  "language_info": {
   "codemirror_mode": {
    "name": "ipython",
    "version": 3
   },
   "file_extension": ".py",
   "mimetype": "text/x-python",
   "name": "python",
   "nbconvert_exporter": "python",
   "pygments_lexer": "ipython3",
   "version": "3.7.4"
  }
 },
 "nbformat": 4,
 "nbformat_minor": 4
}
